{
 "cells": [
  {
   "cell_type": "code",
   "execution_count": 2,
   "metadata": {},
   "outputs": [],
   "source": [
    "import os\n",
    "os.makedirs(os.path.join('..', 'data'), exist_ok=True)\n",
    "data_file = os.path.join('..', 'data', 'house_tiny.csv')\n",
    "with open(data_file, 'w') as f:\n",
    "    f.write('NumRooms,Alley,Price\\n')  # 列名\n",
    "    f.write('NA,Pave,127500\\n')  # 每行表示一个数据样本\n",
    "    f.write('2,NA,106000\\n')\n",
    "    f.write('4,NA,178100\\n')\n",
    "    f.write('NA,NA,140000\\n')"
   ]
  },
  {
   "cell_type": "code",
   "execution_count": 3,
   "metadata": {},
   "outputs": [
    {
     "name": "stdout",
     "output_type": "stream",
     "text": [
      "   NumRooms Alley   Price\n",
      "0       NaN  Pave  127500\n",
      "1       2.0   NaN  106000\n",
      "2       4.0   NaN  178100\n",
      "3       NaN   NaN  140000\n"
     ]
    }
   ],
   "source": [
    "import pandas as pd\n",
    "data = pd.read_csv(data_file)\n",
    "print(data)"
   ]
  },
  {
   "cell_type": "code",
   "execution_count": 4,
   "metadata": {},
   "outputs": [
    {
     "name": "stdout",
     "output_type": "stream",
     "text": [
      "   NumRooms Alley\n",
      "0       3.0  Pave\n",
      "1       2.0   NaN\n",
      "2       4.0   NaN\n",
      "3       3.0   NaN\n"
     ]
    }
   ],
   "source": [
    "inputs, outputs = data.iloc[:, 0:2], data.iloc[:, 2]\n",
    "inputs = inputs.fillna(inputs.mean())\n",
    "print(inputs)"
   ]
  },
  {
   "cell_type": "code",
   "execution_count": 5,
   "metadata": {},
   "outputs": [
    {
     "name": "stdout",
     "output_type": "stream",
     "text": [
      "   NumRooms  Alley_Pave  Alley_nan\n",
      "0       3.0           1          0\n",
      "1       2.0           0          1\n",
      "2       4.0           0          1\n",
      "3       3.0           0          1\n"
     ]
    }
   ],
   "source": [
    "inputs=pd.get_dummies(inputs, dummy_na=True)\n",
    "print(inputs)"
   ]
  },
  {
   "cell_type": "code",
   "execution_count": 7,
   "metadata": {},
   "outputs": [
    {
     "data": {
      "text/plain": [
       "(tensor([[3., 1., 0.],\n",
       "         [2., 0., 1.],\n",
       "         [4., 0., 1.],\n",
       "         [3., 0., 1.]], dtype=torch.float64),\n",
       " tensor([127500., 106000., 178100., 140000.], dtype=torch.float64))"
      ]
     },
     "execution_count": 7,
     "metadata": {},
     "output_type": "execute_result"
    }
   ],
   "source": [
    "import torch\n",
    "X=torch.tensor(inputs.to_numpy(dtype=float))\n",
    "y=torch.tensor(outputs.to_numpy(dtype=float))\n",
    "X,y"
   ]
  },
  {
   "cell_type": "code",
   "execution_count": 26,
   "metadata": {},
   "outputs": [
    {
     "name": "stdout",
     "output_type": "stream",
     "text": [
      "       City  Location Alley  NumRooms  Years    Price\n",
      "0   Beijing  Downtown  Pave       4.0   20.0  3000000\n",
      "1  Shanghai       NaN   NaN       3.0    NaN  2700000\n",
      "2   Beijing    Suburb   NaN       NaN    8.0  1000000\n",
      "3  Shanghai       NaN  Pave       NaN   10.0  1500000\n",
      "4       NaN    Suburb   NaN       2.0    5.0  2000000\n",
      "5  Shanghai       NaN  Pave       NaN    NaN  1600000\n",
      "6   Beijing  Downtown   NaN       1.0    NaN  1500000\n"
     ]
    }
   ],
   "source": [
    "data_file=os.path.join('..','data','house_larger.csv')\n",
    "with open(data_file,'w') as f:\n",
    "    f.write('City,Location,Alley,NumRooms,Years,Price\\n')\n",
    "    f.write('Beijing,Downtown,Pave,4,20,3000000\\n')\n",
    "    f.write('Shanghai,NA,NA,3,NA,2700000\\n')\n",
    "    f.write('Beijing,Suburb,NA,NA,8,1000000\\n')\n",
    "    f.write('Shanghai,NA,Pave,NA,10,1500000\\n')\n",
    "    f.write('NA,Suburb,NA,2,5,2000000\\n')\n",
    "    f.write('Shanghai,NA,Pave,NA,NA,1600000\\n')\n",
    "    f.write('Beijing,Downtown,NA,1,NA,1500000\\n')\n",
    "\n",
    "data=pd.read_csv(data_file)\n",
    "print(data)"
   ]
  },
  {
   "cell_type": "code",
   "execution_count": 27,
   "metadata": {},
   "outputs": [
    {
     "name": "stdout",
     "output_type": "stream",
     "text": [
      "       City  Location  NumRooms  Years\n",
      "0   Beijing  Downtown       4.0  20.00\n",
      "1  Shanghai       NaN       3.0  10.75\n",
      "2   Beijing    Suburb       2.5   8.00\n",
      "3  Shanghai       NaN       2.5  10.00\n",
      "4       NaN    Suburb       2.0   5.00\n",
      "5  Shanghai       NaN       2.5  10.75\n",
      "6   Beijing  Downtown       1.0  10.75\n"
     ]
    }
   ],
   "source": [
    "inputs,outputs=data.iloc[:,0:5],data.iloc[:,5]\n",
    "col=inputs.isna().sum().idxmax()    #缺失值最多的列(`Alley`)\n",
    "del inputs[col]\n",
    "inputs=inputs.fillna(inputs.mean())\n",
    "print(inputs)"
   ]
  },
  {
   "cell_type": "code",
   "execution_count": 29,
   "metadata": {},
   "outputs": [
    {
     "name": "stdout",
     "output_type": "stream",
     "text": [
      "   NumRooms  Years  City_Beijing  City_Shanghai  City_nan  Location_Downtown  \\\n",
      "0       4.0  20.00             1              0         0                  1   \n",
      "1       3.0  10.75             0              1         0                  0   \n",
      "2       2.5   8.00             1              0         0                  0   \n",
      "3       2.5  10.00             0              1         0                  0   \n",
      "4       2.0   5.00             0              0         1                  0   \n",
      "5       2.5  10.75             0              1         0                  0   \n",
      "6       1.0  10.75             1              0         0                  1   \n",
      "\n",
      "   Location_Suburb  Location_nan  \n",
      "0                0             0  \n",
      "1                0             1  \n",
      "2                1             0  \n",
      "3                0             1  \n",
      "4                1             0  \n",
      "5                0             1  \n",
      "6                0             0  \n"
     ]
    }
   ],
   "source": [
    "inputs=pd.get_dummies(inputs,dummy_na=True)\n",
    "print(inputs)"
   ]
  },
  {
   "cell_type": "code",
   "execution_count": 30,
   "metadata": {},
   "outputs": [
    {
     "data": {
      "text/plain": [
       "(tensor([[ 4.0000, 20.0000,  1.0000,  0.0000,  0.0000,  1.0000,  0.0000,  0.0000],\n",
       "         [ 3.0000, 10.7500,  0.0000,  1.0000,  0.0000,  0.0000,  0.0000,  1.0000],\n",
       "         [ 2.5000,  8.0000,  1.0000,  0.0000,  0.0000,  0.0000,  1.0000,  0.0000],\n",
       "         [ 2.5000, 10.0000,  0.0000,  1.0000,  0.0000,  0.0000,  0.0000,  1.0000],\n",
       "         [ 2.0000,  5.0000,  0.0000,  0.0000,  1.0000,  0.0000,  1.0000,  0.0000],\n",
       "         [ 2.5000, 10.7500,  0.0000,  1.0000,  0.0000,  0.0000,  0.0000,  1.0000],\n",
       "         [ 1.0000, 10.7500,  1.0000,  0.0000,  0.0000,  1.0000,  0.0000,  0.0000]],\n",
       "        dtype=torch.float64),\n",
       " tensor([3000000., 2700000., 1000000., 1500000., 2000000., 1600000., 1500000.],\n",
       "        dtype=torch.float64))"
      ]
     },
     "execution_count": 30,
     "metadata": {},
     "output_type": "execute_result"
    }
   ],
   "source": [
    "X=torch.tensor(inputs.to_numpy(dtype=float))\n",
    "y=torch.tensor(outputs.to_numpy(dtype=float))\n",
    "X,y"
   ]
  }
 ],
 "metadata": {
  "kernelspec": {
   "display_name": "pytorch",
   "language": "python",
   "name": "python3"
  },
  "language_info": {
   "codemirror_mode": {
    "name": "ipython",
    "version": 3
   },
   "file_extension": ".py",
   "mimetype": "text/x-python",
   "name": "python",
   "nbconvert_exporter": "python",
   "pygments_lexer": "ipython3",
   "version": "3.9.18"
  }
 },
 "nbformat": 4,
 "nbformat_minor": 2
}
