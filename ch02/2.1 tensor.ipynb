{
 "cells": [
  {
   "cell_type": "code",
   "execution_count": 1,
   "id": "a0298b5e",
   "metadata": {
    "ExecuteTime": {
     "end_time": "2024-01-05T05:42:03.413686Z",
     "start_time": "2024-01-05T05:41:58.909733Z"
    }
   },
   "outputs": [],
   "source": [
    "import torch"
   ]
  },
  {
   "cell_type": "code",
   "execution_count": 2,
   "id": "d55e7be9",
   "metadata": {
    "ExecuteTime": {
     "end_time": "2024-01-05T05:43:16.535308Z",
     "start_time": "2024-01-05T05:43:16.525180Z"
    }
   },
   "outputs": [
    {
     "data": {
      "text/plain": [
       "tensor([ 0,  1,  2,  3,  4,  5,  6,  7,  8,  9, 10, 11])"
      ]
     },
     "execution_count": 2,
     "metadata": {},
     "output_type": "execute_result"
    }
   ],
   "source": [
    "x=torch.arange(12)\n",
    "x"
   ]
  },
  {
   "cell_type": "code",
   "execution_count": 3,
   "id": "12a3edcb",
   "metadata": {
    "ExecuteTime": {
     "end_time": "2024-01-05T05:43:29.413611Z",
     "start_time": "2024-01-05T05:43:29.401992Z"
    }
   },
   "outputs": [
    {
     "data": {
      "text/plain": [
       "torch.Size([12])"
      ]
     },
     "execution_count": 3,
     "metadata": {},
     "output_type": "execute_result"
    }
   ],
   "source": [
    "x.shape"
   ]
  },
  {
   "cell_type": "code",
   "execution_count": 4,
   "id": "f9f9e6a6",
   "metadata": {
    "ExecuteTime": {
     "end_time": "2024-01-05T05:44:26.645098Z",
     "start_time": "2024-01-05T05:44:26.634094Z"
    }
   },
   "outputs": [
    {
     "data": {
      "text/plain": [
       "12"
      ]
     },
     "execution_count": 4,
     "metadata": {},
     "output_type": "execute_result"
    }
   ],
   "source": [
    "x.numel()"
   ]
  },
  {
   "cell_type": "code",
   "execution_count": 5,
   "id": "0a863486",
   "metadata": {
    "ExecuteTime": {
     "end_time": "2024-01-05T05:45:01.603494Z",
     "start_time": "2024-01-05T05:45:01.594449Z"
    }
   },
   "outputs": [],
   "source": [
    "X=x.reshape(3,4)"
   ]
  },
  {
   "cell_type": "code",
   "execution_count": 6,
   "id": "79f8c755",
   "metadata": {
    "ExecuteTime": {
     "end_time": "2024-01-05T05:45:03.775723Z",
     "start_time": "2024-01-05T05:45:03.755411Z"
    }
   },
   "outputs": [
    {
     "data": {
      "text/plain": [
       "tensor([[ 0,  1,  2,  3],\n",
       "        [ 4,  5,  6,  7],\n",
       "        [ 8,  9, 10, 11]])"
      ]
     },
     "execution_count": 6,
     "metadata": {},
     "output_type": "execute_result"
    }
   ],
   "source": [
    "X"
   ]
  },
  {
   "cell_type": "code",
   "execution_count": 7,
   "id": "01d6c788",
   "metadata": {
    "ExecuteTime": {
     "end_time": "2024-01-05T05:45:15.974088Z",
     "start_time": "2024-01-05T05:45:15.963215Z"
    }
   },
   "outputs": [
    {
     "data": {
      "text/plain": [
       "(torch.Size([3, 4]), 12)"
      ]
     },
     "execution_count": 7,
     "metadata": {},
     "output_type": "execute_result"
    }
   ],
   "source": [
    "X.shape,X.numel()"
   ]
  },
  {
   "cell_type": "code",
   "execution_count": 8,
   "id": "065aa17c",
   "metadata": {
    "ExecuteTime": {
     "end_time": "2024-01-05T05:45:58.444604Z",
     "start_time": "2024-01-05T05:45:58.432470Z"
    }
   },
   "outputs": [
    {
     "data": {
      "text/plain": [
       "tensor([[ 0,  1,  2,  3],\n",
       "        [ 4,  5,  6,  7],\n",
       "        [ 8,  9, 10, 11]])"
      ]
     },
     "execution_count": 8,
     "metadata": {},
     "output_type": "execute_result"
    }
   ],
   "source": [
    "x.reshape(3,-1)"
   ]
  },
  {
   "cell_type": "code",
   "execution_count": 9,
   "id": "d810fa06",
   "metadata": {
    "ExecuteTime": {
     "end_time": "2024-01-05T05:46:05.325167Z",
     "start_time": "2024-01-05T05:46:05.313632Z"
    }
   },
   "outputs": [
    {
     "data": {
      "text/plain": [
       "tensor([[ 0,  1,  2,  3,  4,  5],\n",
       "        [ 6,  7,  8,  9, 10, 11]])"
      ]
     },
     "execution_count": 9,
     "metadata": {},
     "output_type": "execute_result"
    }
   ],
   "source": [
    "x.reshape(-1,6)"
   ]
  },
  {
   "cell_type": "code",
   "execution_count": 10,
   "id": "575c1118",
   "metadata": {
    "ExecuteTime": {
     "end_time": "2024-01-05T05:46:36.421468Z",
     "start_time": "2024-01-05T05:46:36.373758Z"
    }
   },
   "outputs": [
    {
     "data": {
      "text/plain": [
       "tensor([[[0., 0., 0., 0.],\n",
       "         [0., 0., 0., 0.],\n",
       "         [0., 0., 0., 0.]],\n",
       "\n",
       "        [[0., 0., 0., 0.],\n",
       "         [0., 0., 0., 0.],\n",
       "         [0., 0., 0., 0.]]])"
      ]
     },
     "execution_count": 10,
     "metadata": {},
     "output_type": "execute_result"
    }
   ],
   "source": [
    "torch.zeros((2,3,4))"
   ]
  },
  {
   "cell_type": "code",
   "execution_count": 11,
   "id": "2e5ca999",
   "metadata": {
    "ExecuteTime": {
     "end_time": "2024-01-05T05:46:49.506482Z",
     "start_time": "2024-01-05T05:46:49.469949Z"
    }
   },
   "outputs": [
    {
     "data": {
      "text/plain": [
       "tensor([[[1., 1., 1., 1.],\n",
       "         [1., 1., 1., 1.],\n",
       "         [1., 1., 1., 1.]],\n",
       "\n",
       "        [[1., 1., 1., 1.],\n",
       "         [1., 1., 1., 1.],\n",
       "         [1., 1., 1., 1.]]])"
      ]
     },
     "execution_count": 11,
     "metadata": {},
     "output_type": "execute_result"
    }
   ],
   "source": [
    "torch.ones((2,3,4))"
   ]
  },
  {
   "cell_type": "code",
   "execution_count": 12,
   "id": "45dabfb9",
   "metadata": {
    "ExecuteTime": {
     "end_time": "2024-01-05T05:47:16.030770Z",
     "start_time": "2024-01-05T05:47:16.006405Z"
    }
   },
   "outputs": [
    {
     "data": {
      "text/plain": [
       "tensor([[-0.7709,  0.2123,  1.6300, -0.9787],\n",
       "        [-0.7976,  3.0029,  0.8445, -2.3184],\n",
       "        [ 1.2527, -1.9233, -0.2535, -2.0256]])"
      ]
     },
     "execution_count": 12,
     "metadata": {},
     "output_type": "execute_result"
    }
   ],
   "source": [
    "torch.randn(3,4)"
   ]
  },
  {
   "cell_type": "code",
   "execution_count": 13,
   "id": "1106507d",
   "metadata": {
    "ExecuteTime": {
     "end_time": "2024-01-05T05:48:39.918505Z",
     "start_time": "2024-01-05T05:48:39.896019Z"
    }
   },
   "outputs": [
    {
     "data": {
      "text/plain": [
       "tensor([[2, 1, 4, 3],\n",
       "        [1, 2, 3, 4],\n",
       "        [4, 3, 2, 1]])"
      ]
     },
     "execution_count": 13,
     "metadata": {},
     "output_type": "execute_result"
    }
   ],
   "source": [
    "torch.tensor([[2,1,4,3],[1,2,3,4],[4,3,2,1]])"
   ]
  },
  {
   "cell_type": "code",
   "execution_count": 14,
   "id": "45405da8",
   "metadata": {
    "ExecuteTime": {
     "end_time": "2024-01-05T05:51:32.905955Z",
     "start_time": "2024-01-05T05:51:32.883725Z"
    }
   },
   "outputs": [
    {
     "data": {
      "text/plain": [
       "tensor([[1., 1., 1.],\n",
       "        [1., 1., 1.],\n",
       "        [1., 1., 1.],\n",
       "        [1., 1., 1.]], dtype=torch.float64)"
      ]
     },
     "execution_count": 14,
     "metadata": {},
     "output_type": "execute_result"
    }
   ],
   "source": [
    "torch.ones((4,3),dtype=torch.float64)"
   ]
  },
  {
   "cell_type": "code",
   "execution_count": 15,
   "id": "dcbb56a4",
   "metadata": {
    "ExecuteTime": {
     "end_time": "2024-01-05T05:54:17.707209Z",
     "start_time": "2024-01-05T05:54:17.674903Z"
    }
   },
   "outputs": [
    {
     "data": {
      "text/plain": [
       "(tensor([ 3.,  4.,  6., 10.]),\n",
       " tensor([-1.,  0.,  2.,  6.]),\n",
       " tensor([ 2.,  4.,  8., 16.]),\n",
       " tensor([0.5000, 1.0000, 2.0000, 4.0000]),\n",
       " tensor([ 1.,  4., 16., 64.]))"
      ]
     },
     "execution_count": 15,
     "metadata": {},
     "output_type": "execute_result"
    }
   ],
   "source": [
    "x=torch.tensor([1.0,2,4,8])\n",
    "y=torch.tensor([2,2,2,2])\n",
    "x+y,x-y,x*y,x/y,x**y"
   ]
  },
  {
   "cell_type": "code",
   "execution_count": 16,
   "id": "4ed758d9",
   "metadata": {
    "ExecuteTime": {
     "end_time": "2024-01-05T05:55:06.393989Z",
     "start_time": "2024-01-05T05:55:06.365414Z"
    }
   },
   "outputs": [
    {
     "data": {
      "text/plain": [
       "tensor([2.7183e+00, 7.3891e+00, 5.4598e+01, 2.9810e+03])"
      ]
     },
     "execution_count": 16,
     "metadata": {},
     "output_type": "execute_result"
    }
   ],
   "source": [
    "torch.exp(x)"
   ]
  },
  {
   "cell_type": "code",
   "execution_count": 17,
   "id": "9bdc480e",
   "metadata": {
    "ExecuteTime": {
     "end_time": "2024-01-05T05:58:07.774310Z",
     "start_time": "2024-01-05T05:58:07.742917Z"
    }
   },
   "outputs": [
    {
     "data": {
      "text/plain": [
       "(tensor([[ 0.,  1.,  2.,  3.],\n",
       "         [ 4.,  5.,  6.,  7.],\n",
       "         [ 8.,  9., 10., 11.],\n",
       "         [ 2.,  1.,  4.,  3.],\n",
       "         [ 1.,  2.,  3.,  4.],\n",
       "         [ 4.,  3.,  2.,  1.]]),\n",
       " tensor([[ 0.,  1.,  2.,  3.,  2.,  1.,  4.,  3.],\n",
       "         [ 4.,  5.,  6.,  7.,  1.,  2.,  3.,  4.],\n",
       "         [ 8.,  9., 10., 11.,  4.,  3.,  2.,  1.]]))"
      ]
     },
     "execution_count": 17,
     "metadata": {},
     "output_type": "execute_result"
    }
   ],
   "source": [
    "X=torch.arange(12,dtype=torch.float32).reshape((3,4))\n",
    "Y=torch.tensor([[2.0,1,4,3],[1,2,3,4],[4,3,2,1]])\n",
    "torch.cat((X,Y),dim=0),torch.cat((X,Y),dim=1)"
   ]
  },
  {
   "cell_type": "code",
   "execution_count": 18,
   "id": "8eeafdda",
   "metadata": {
    "ExecuteTime": {
     "end_time": "2024-01-05T05:59:43.303402Z",
     "start_time": "2024-01-05T05:59:43.291607Z"
    }
   },
   "outputs": [
    {
     "data": {
      "text/plain": [
       "tensor([[False,  True, False,  True],\n",
       "        [False, False, False, False],\n",
       "        [False, False, False, False]])"
      ]
     },
     "execution_count": 18,
     "metadata": {},
     "output_type": "execute_result"
    }
   ],
   "source": [
    "X==Y"
   ]
  },
  {
   "cell_type": "code",
   "execution_count": 19,
   "id": "7c088306",
   "metadata": {
    "ExecuteTime": {
     "end_time": "2024-01-05T06:00:16.777928Z",
     "start_time": "2024-01-05T06:00:16.766080Z"
    }
   },
   "outputs": [
    {
     "data": {
      "text/plain": [
       "tensor(66.)"
      ]
     },
     "execution_count": 19,
     "metadata": {},
     "output_type": "execute_result"
    }
   ],
   "source": [
    "X.sum()"
   ]
  },
  {
   "cell_type": "code",
   "execution_count": 20,
   "id": "2f7c2bb2",
   "metadata": {
    "ExecuteTime": {
     "end_time": "2024-01-05T06:02:52.449337Z",
     "start_time": "2024-01-05T06:02:52.433053Z"
    }
   },
   "outputs": [
    {
     "data": {
      "text/plain": [
       "tensor([[ 0.,  1.,  2.],\n",
       "        [ 3.,  4.,  5.],\n",
       "        [ 6.,  7.,  8.],\n",
       "        [ 9., 10., 11.]])"
      ]
     },
     "execution_count": 20,
     "metadata": {},
     "output_type": "execute_result"
    }
   ],
   "source": [
    "X.clone().view(4,3)"
   ]
  },
  {
   "cell_type": "code",
   "execution_count": 21,
   "id": "1ef59bec",
   "metadata": {
    "ExecuteTime": {
     "end_time": "2024-01-05T06:05:44.365888Z",
     "start_time": "2024-01-05T06:05:44.341010Z"
    }
   },
   "outputs": [
    {
     "data": {
      "text/plain": [
       "(tensor([1., 2., 3., 4.]),\n",
       " tensor([[ 1.,  2.,  3.,  4.],\n",
       "         [ 4.,  5.,  6.,  7.],\n",
       "         [ 8.,  9., 10., 11.]]))"
      ]
     },
     "execution_count": 21,
     "metadata": {},
     "output_type": "execute_result"
    }
   ],
   "source": [
    "y=X[0,:]\n",
    "y+=1\n",
    "y,X"
   ]
  },
  {
   "cell_type": "code",
   "execution_count": 22,
   "id": "010a2c38",
   "metadata": {
    "ExecuteTime": {
     "end_time": "2024-01-05T06:08:40.105830Z",
     "start_time": "2024-01-05T06:08:40.093294Z"
    }
   },
   "outputs": [
    {
     "data": {
      "text/plain": [
       "(tensor([[0],\n",
       "         [1],\n",
       "         [2]]),\n",
       " tensor([[0, 1]]))"
      ]
     },
     "execution_count": 22,
     "metadata": {},
     "output_type": "execute_result"
    }
   ],
   "source": [
    "a=torch.arange(3).reshape((3,1))\n",
    "b=torch.arange(2).reshape((1,2))\n",
    "a,b"
   ]
  },
  {
   "cell_type": "code",
   "execution_count": 23,
   "id": "94087087",
   "metadata": {
    "ExecuteTime": {
     "end_time": "2024-01-05T06:44:24.568263Z",
     "start_time": "2024-01-05T06:44:24.545256Z"
    }
   },
   "outputs": [
    {
     "data": {
      "text/plain": [
       "tensor([[0, 1],\n",
       "        [1, 2],\n",
       "        [2, 3]])"
      ]
     },
     "execution_count": 23,
     "metadata": {},
     "output_type": "execute_result"
    }
   ],
   "source": [
    "a+b"
   ]
  },
  {
   "cell_type": "code",
   "execution_count": 24,
   "id": "ac9c7c64",
   "metadata": {
    "ExecuteTime": {
     "end_time": "2024-01-05T06:47:51.541870Z",
     "start_time": "2024-01-05T06:47:51.527322Z"
    }
   },
   "outputs": [
    {
     "data": {
      "text/plain": [
       "(tensor([ 8.,  9., 10., 11.]),\n",
       " tensor([[ 4.,  5.,  6.,  7.],\n",
       "         [ 8.,  9., 10., 11.]]))"
      ]
     },
     "execution_count": 24,
     "metadata": {},
     "output_type": "execute_result"
    }
   ],
   "source": [
    "X=torch.arange(12,dtype=torch.float32).reshape((3,4))\n",
    "X[-1],X[1:3]"
   ]
  },
  {
   "cell_type": "code",
   "execution_count": 25,
   "id": "729829bd",
   "metadata": {
    "ExecuteTime": {
     "end_time": "2024-01-05T06:48:20.021893Z",
     "start_time": "2024-01-05T06:48:20.009566Z"
    }
   },
   "outputs": [
    {
     "data": {
      "text/plain": [
       "tensor([[ 0.,  1.,  2.,  3.],\n",
       "        [ 4.,  5.,  9.,  7.],\n",
       "        [ 8.,  9., 10., 11.]])"
      ]
     },
     "execution_count": 25,
     "metadata": {},
     "output_type": "execute_result"
    }
   ],
   "source": [
    "X[1,2]=9\n",
    "X"
   ]
  },
  {
   "cell_type": "code",
   "execution_count": 26,
   "id": "ed92ce89",
   "metadata": {
    "ExecuteTime": {
     "end_time": "2024-01-05T06:49:04.497706Z",
     "start_time": "2024-01-05T06:49:04.486670Z"
    }
   },
   "outputs": [
    {
     "data": {
      "text/plain": [
       "tensor([[12., 12., 12., 12.],\n",
       "        [12., 12., 12., 12.],\n",
       "        [ 8.,  9., 10., 11.]])"
      ]
     },
     "execution_count": 26,
     "metadata": {},
     "output_type": "execute_result"
    }
   ],
   "source": [
    "X[0:2,:]=12\n",
    "X"
   ]
  },
  {
   "cell_type": "code",
   "execution_count": 27,
   "id": "adfc8999",
   "metadata": {
    "ExecuteTime": {
     "end_time": "2024-01-05T06:50:31.398051Z",
     "start_time": "2024-01-05T06:50:31.386355Z"
    }
   },
   "outputs": [
    {
     "data": {
      "text/plain": [
       "False"
      ]
     },
     "execution_count": 27,
     "metadata": {},
     "output_type": "execute_result"
    }
   ],
   "source": [
    "before=id(Y)\n",
    "Y=Y+X\n",
    "id(Y)==before"
   ]
  },
  {
   "cell_type": "code",
   "execution_count": 28,
   "id": "41b07cf4",
   "metadata": {
    "ExecuteTime": {
     "end_time": "2024-01-05T06:52:46.909912Z",
     "start_time": "2024-01-05T06:52:46.891155Z"
    }
   },
   "outputs": [
    {
     "name": "stdout",
     "output_type": "stream",
     "text": [
      "id(Z): 2427806030960\n",
      "id(Z): 2427806030960\n"
     ]
    }
   ],
   "source": [
    "Z=torch.zeros_like(Y)\n",
    "print('id(Z):', id(Z))\n",
    "Z[:]=X+Y\n",
    "print('id(Z):', id(Z))"
   ]
  },
  {
   "cell_type": "code",
   "execution_count": 29,
   "id": "4f38ccf9",
   "metadata": {
    "ExecuteTime": {
     "end_time": "2024-01-05T06:54:49.276642Z",
     "start_time": "2024-01-05T06:54:49.265110Z"
    }
   },
   "outputs": [
    {
     "data": {
      "text/plain": [
       "True"
      ]
     },
     "execution_count": 29,
     "metadata": {},
     "output_type": "execute_result"
    }
   ],
   "source": [
    "before=id(Y)\n",
    "Y+=X\n",
    "id(Y)==before"
   ]
  },
  {
   "cell_type": "code",
   "execution_count": 30,
   "id": "bc49dc17",
   "metadata": {
    "ExecuteTime": {
     "end_time": "2024-01-05T06:56:51.549994Z",
     "start_time": "2024-01-05T06:56:51.536525Z"
    }
   },
   "outputs": [
    {
     "data": {
      "text/plain": [
       "(numpy.ndarray, torch.Tensor)"
      ]
     },
     "execution_count": 30,
     "metadata": {},
     "output_type": "execute_result"
    }
   ],
   "source": [
    "A=X.numpy()\n",
    "B=torch.tensor(A)\n",
    "type(A),type(B)"
   ]
  },
  {
   "cell_type": "code",
   "execution_count": 31,
   "id": "0f20478a",
   "metadata": {
    "ExecuteTime": {
     "end_time": "2024-01-05T06:57:34.927782Z",
     "start_time": "2024-01-05T06:57:34.915538Z"
    }
   },
   "outputs": [
    {
     "data": {
      "text/plain": [
       "(tensor([3.5000]), 3.5, 3.5)"
      ]
     },
     "execution_count": 31,
     "metadata": {},
     "output_type": "execute_result"
    }
   ],
   "source": [
    "a=torch.tensor([3.5])\n",
    "a,a.item(),float(a)"
   ]
  },
  {
   "cell_type": "code",
   "execution_count": 32,
   "id": "88cf314f",
   "metadata": {},
   "outputs": [
    {
     "data": {
      "text/plain": [
       "(tensor([[ True, False,  True, False],\n",
       "         [False, False, False, False],\n",
       "         [False, False, False, False]]),\n",
       " tensor([[False, False, False, False],\n",
       "         [ True,  True,  True,  True],\n",
       "         [ True,  True,  True,  True]]))"
      ]
     },
     "execution_count": 32,
     "metadata": {},
     "output_type": "execute_result"
    }
   ],
   "source": [
    "X=torch.arange(12,dtype=torch.float32).reshape((3,4))\n",
    "Y=torch.tensor([[2.0,1,4,3],[1,2,3,4],[4,3,2,1]])\n",
    "X<Y,X>Y"
   ]
  },
  {
   "cell_type": "code",
   "execution_count": 35,
   "id": "2c0ff32e",
   "metadata": {},
   "outputs": [
    {
     "data": {
      "text/plain": [
       "(tensor([[[1],\n",
       "          [2],\n",
       "          [3]],\n",
       " \n",
       "         [[4],\n",
       "          [5],\n",
       "          [6]],\n",
       " \n",
       "         [[7],\n",
       "          [8],\n",
       "          [9]]]),\n",
       " tensor([[[1, 2, 3],\n",
       "          [4, 5, 6],\n",
       "          [7, 8, 9]]]))"
      ]
     },
     "execution_count": 35,
     "metadata": {},
     "output_type": "execute_result"
    }
   ],
   "source": [
    "a=torch.tensor([[[1],[2],[3]], [[4],[5],[6]], [[7],[8],[9]]])\n",
    "b=torch.tensor([[[1,2,3],[4,5,6],[7,8,9]]])\n",
    "a,b"
   ]
  },
  {
   "cell_type": "code",
   "execution_count": 36,
   "id": "19e6e1a3",
   "metadata": {},
   "outputs": [
    {
     "data": {
      "text/plain": [
       "tensor([[[ 2,  3,  4],\n",
       "         [ 6,  7,  8],\n",
       "         [10, 11, 12]],\n",
       "\n",
       "        [[ 5,  6,  7],\n",
       "         [ 9, 10, 11],\n",
       "         [13, 14, 15]],\n",
       "\n",
       "        [[ 8,  9, 10],\n",
       "         [12, 13, 14],\n",
       "         [16, 17, 18]]])"
      ]
     },
     "execution_count": 36,
     "metadata": {},
     "output_type": "execute_result"
    }
   ],
   "source": [
    "a+b"
   ]
  }
 ],
 "metadata": {
  "kernelspec": {
   "display_name": "Python 3 (ipykernel)",
   "language": "python",
   "name": "python3"
  },
  "language_info": {
   "codemirror_mode": {
    "name": "ipython",
    "version": 3
   },
   "file_extension": ".py",
   "mimetype": "text/x-python",
   "name": "python",
   "nbconvert_exporter": "python",
   "pygments_lexer": "ipython3",
   "version": "3.11.5"
  }
 },
 "nbformat": 4,
 "nbformat_minor": 5
}
